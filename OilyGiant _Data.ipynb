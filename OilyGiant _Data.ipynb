{
 "cells": [
  {
   "cell_type": "markdown",
   "metadata": {},
   "source": [
    "# Mineração OilyGiant Data"
   ]
  },
  {
   "cell_type": "markdown",
   "metadata": {},
   "source": [
    "## Carregando os Dados \n"
   ]
  },
  {
   "cell_type": "code",
   "execution_count": 1,
   "metadata": {},
   "outputs": [],
   "source": [
    "import pandas as pd\n",
    "import numpy as np\n",
    "from sklearn.model_selection import train_test_split\n",
    "from sklearn.linear_model import LinearRegression\n",
    "from sklearn.metrics import mean_squared_error\n",
    "from sklearn.preprocessing import StandardScaler"
   ]
  },
  {
   "cell_type": "code",
   "execution_count": 20,
   "metadata": {},
   "outputs": [
    {
     "data": {
      "text/plain": [
       "({'Região 0':       id        f0        f1        f2     product\n",
       "  0  txEyH  0.705745 -0.497823  1.221170  105.280062\n",
       "  1  2acmU  1.334711 -0.340164  4.365080   73.037750\n",
       "  2  409Wp  1.022732  0.151990  1.419926   85.265647\n",
       "  3  iJLyR -0.032172  0.139033  2.978566  168.620776\n",
       "  4  Xdl7t  1.988431  0.155413  4.751769  154.036647,\n",
       "  'Região 1':       id         f0         f1        f2     product\n",
       "  0  kBEdx -15.001348  -8.276000 -0.005876    3.179103\n",
       "  1  62mP7  14.272088  -3.475083  0.999183   26.953261\n",
       "  2  vyE1P   6.263187  -5.948386  5.001160  134.766305\n",
       "  3  KcrkZ -13.081196 -11.506057  4.999415  137.945408\n",
       "  4  AHL4O  12.702195  -8.147433  5.004363  134.766305,\n",
       "  'Região 2':       id        f0        f1        f2     product\n",
       "  0  fwXo0 -1.146987  0.963328 -0.828965   27.758673\n",
       "  1  WJtFt  0.262778  0.269839 -2.530187   56.069697\n",
       "  2  ovLUW  0.194587  0.289035 -5.586433   62.871910\n",
       "  3  q6cA6  2.236060 -0.553760  0.930038  114.572842\n",
       "  4  WPMUX -0.515993  1.716266  5.899011  149.600746},\n",
       " {'Região 0': id         0\n",
       "  f0         0\n",
       "  f1         0\n",
       "  f2         0\n",
       "  product    0\n",
       "  dtype: int64,\n",
       "  'Região 1': id         0\n",
       "  f0         0\n",
       "  f1         0\n",
       "  f2         0\n",
       "  product    0\n",
       "  dtype: int64,\n",
       "  'Região 2': id         0\n",
       "  f0         0\n",
       "  f1         0\n",
       "  f2         0\n",
       "  product    0\n",
       "  dtype: int64})"
      ]
     },
     "execution_count": 20,
     "metadata": {},
     "output_type": "execute_result"
    }
   ],
   "source": [
    "# Função para carregar e preparar os dados\n",
    "\n",
    "# Caminhos dos arquivos CSV\n",
    "file_paths = [\n",
    "    '/datasets/geo_data_0.csv',\n",
    "    '/datasets/geo_data_1.csv', \n",
    "    '/datasets/geo_data_2.csv'\n",
    "]\n",
    "\n",
    "# Leitura dos arquivos em uma lista de DataFrames\n",
    "dfs = [pd.read_csv(path) for path in file_paths]\n",
    "\n",
    "# Nomeando os DataFrames por região\n",
    "regions = [\"Região 0\", \"Região 1\", \"Região 2\"]\n",
    "data = dict(zip(regions, dfs))\n",
    "\n",
    "# Exibir as 5 primeiras linhas de cada DataFrame\n",
    "head_samples = {region: df.head() for region, df in data.items()}\n",
    "\n",
    "# Checar se há valores ausentes por coluna\n",
    "missing_values = {region: df.isnull().sum() for region, df in data.items()}\n",
    "\n",
    "# Visualização dos dados e valores ausentes (já feito em output anterior)\n",
    "head_samples, missing_values\n"
   ]
  },
  {
   "cell_type": "markdown",
   "metadata": {},
   "source": [
    "Dados Limpos , Nenhum valor ausente foi encontrado em nenhuma das regiões."
   ]
  },
  {
   "cell_type": "markdown",
   "metadata": {},
   "source": [
    "## Treinamento e Teste de Modelo 'Regiao 0\""
   ]
  },
  {
   "cell_type": "code",
   "execution_count": 28,
   "metadata": {},
   "outputs": [
    {
     "name": "stdout",
     "output_type": "stream",
     "text": [
      "📌 Volume médio previsto de reservas (mil barris): 92.3987999065777\n",
      "📉 Erro Quadrático Médio (REQM): 37.756600350261685\n"
     ]
    }
   ],
   "source": [
    "# Função para treinar e avaliar o modelo de regressão linear em uma região\n",
    "def train_and_evaluate_model(df):\n",
    "    # Separar features (f0, f1, f2) e target (product)\n",
    "    features = df.drop(columns=['id', 'product'])\n",
    "    target = df['product']\n",
    "\n",
    "    # Dividir os dados em treino (75%) e validação (25%)\n",
    "    X_train, X_valid, y_train, y_valid = train_test_split(\n",
    "        features, target, test_size=0.25, random_state=42\n",
    "    )\n",
    "\n",
    "    # Treinar modelo de regressão linear\n",
    "    model = LinearRegression()\n",
    "    model.fit(X_train, y_train)\n",
    "\n",
    "    # Fazer predições\n",
    "    predictions = model.predict(X_valid)\n",
    "\n",
    "    # Calcular volume médio previsto e erro quadrático médio (REQM)\n",
    "    predicted_mean = predictions.mean()\n",
    "    rmse = mean_squared_error(y_valid, predictions, squared=False)\n",
    "\n",
    "    return model, predictions, y_valid, predicted_mean, rmse\n",
    "\n",
    "# Aplicando na Região 0\n",
    "df_region_0 = data[\"Região 0\"]\n",
    "model_0, preds_0, valid_0, mean_0, rmse_0 = train_and_evaluate_model(df_region_0)\n",
    "\n",
    "print(\"📌 Volume médio previsto de reservas (mil barris):\", mean_0)\n",
    "print(\"📉 Erro Quadrático Médio (REQM):\", rmse_0)"
   ]
  },
  {
   "cell_type": "markdown",
   "metadata": {},
   "source": [
    "Resumo da Região 0\n",
    "\n",
    "* Modelo treinado: Regressão Linear\n",
    "\n",
    "* Volume médio previsto de reservas: 92,4 mil barris\n",
    "\n",
    "* Erro Quadrático Médio (REQM): 37,8 mil barris"
   ]
  },
  {
   "cell_type": "markdown",
   "metadata": {},
   "source": [
    "Interpretação\n",
    "    \n",
    "* O modelo prevê que, em média, cada poço de petróleo na Região 0 terá cerca de 92 mil barris de reservas.\n",
    "\n",
    "* O REQM indica que as predições do modelo têm uma variação média de ±37,8 mil barris em relação aos valores reais,\n",
    "o que mostra um certo grau de incerteza, mas ainda é um ponto de partida útil."
   ]
  },
  {
   "cell_type": "markdown",
   "metadata": {},
   "source": [
    "## Treinamento e Teste de Modelo 'Regiao - 1\""
   ]
  },
  {
   "cell_type": "code",
   "execution_count": 29,
   "metadata": {},
   "outputs": [
    {
     "name": "stdout",
     "output_type": "stream",
     "text": [
      "📌 Volume médio previsto de reservas (mil barris): 68.71\n",
      "📉 Erro Quadrático Médio (REQM): 0.89\n"
     ]
    }
   ],
   "source": [
    "\n",
    "# Função para treinar e avaliar o modelo de regressão linear em uma região\n",
    "def train_and_evaluate_model(df):\n",
    "    # Separar features (f0, f1, f2) e target (product)\n",
    "    features = df.drop(columns=['id', 'product'])\n",
    "    target = df['product']\n",
    "\n",
    "    # Dividir os dados em treino (75%) e validação (25%)\n",
    "    X_train, X_valid, y_train, y_valid = train_test_split(\n",
    "        features, target, test_size=0.25, random_state=42\n",
    "    )\n",
    "\n",
    "    # Treinar modelo de regressão linear\n",
    "    model = LinearRegression()\n",
    "    model.fit(X_train, y_train)\n",
    "\n",
    "    # Fazer predições\n",
    "    predictions = model.predict(X_valid)\n",
    "\n",
    "    # Calcular volume médio previsto e erro quadrático médio (REQM)\n",
    "    predicted_mean = predictions.mean()\n",
    "    rmse = mean_squared_error(y_valid, predictions, squared=False)\n",
    "\n",
    "    return model, predictions, y_valid, predicted_mean, rmse\n",
    "\n",
    "\n",
    "\n",
    "df_region_1 = data[\"Região 1\"]\n",
    "\n",
    "# Aplicando a função\n",
    "\n",
    "model_1, preds_1, valid_1, mean_1, rmse_1 = train_and_evaluate_model(df_region_1)\n",
    "\n",
    "# Exibindo os resultados\n",
    "print(\"📌 Volume médio previsto de reservas (mil barris):\", round(mean_1, 2))\n",
    "print(\"📉 Erro Quadrático Médio (REQM):\", round(rmse_1, 2))\n"
   ]
  },
  {
   "cell_type": "markdown",
   "metadata": {},
   "source": [
    "Resumo da Região 1\n",
    "\n",
    "* Modelo usado: Regressão Linear\n",
    "\n",
    "* Volume médio previsto de reservas: 68,71 mil barris\n",
    "\n",
    "* Erro Quadrático Médio (REQM): 0,89 mil barris\n",
    "\n"
   ]
  },
  {
   "cell_type": "markdown",
   "metadata": {},
   "source": [
    "Interpretação:\n",
    "* O modelo fez boas previsões, com um erro bem baixo (0,89). Isso indica que as estimativas estão muito próximas dos valores reais.\n",
    "\n",
    "* No entanto, o volume médio previsto (68,71 mil barris) está bem abaixo do mínimo necessário de 111,1 mil barris por poço para garantir lucro.\n",
    "\n",
    "* Mesmo que o modelo seja mais preciso que na Região 0, o potencial de lucro da Região 1 parece menor, a não ser que os 200 melhores poços se destaquem."
   ]
  },
  {
   "cell_type": "markdown",
   "metadata": {},
   "source": [
    "## Treinamento e Teste de Modelo 'Regiao - 2 \""
   ]
  },
  {
   "cell_type": "code",
   "execution_count": 31,
   "metadata": {},
   "outputs": [
    {
     "name": "stdout",
     "output_type": "stream",
     "text": [
      "📌 Volume médio previsto de reservas (mil barris): 94.77\n",
      "📉 Erro Quadrático Médio (REQM): 40.15\n"
     ]
    }
   ],
   "source": [
    "\n",
    "# Função para treinar e avaliar o modelo de regressão linear em uma região\n",
    "def train_and_evaluate_model(df):\n",
    "    # Separar features (f0, f1, f2) e target (product)\n",
    "    features = df.drop(columns=['id', 'product'])\n",
    "    target = df['product']\n",
    "\n",
    "    # Dividir os dados em treino (75%) e validação (25%)\n",
    "    X_train, X_valid, y_train, y_valid = train_test_split(\n",
    "        features, target, test_size=0.25, random_state=42\n",
    "    )\n",
    "\n",
    "    # Treinar modelo de regressão linear\n",
    "    model = LinearRegression()\n",
    "    model.fit(X_train, y_train)\n",
    "\n",
    "    # Fazer predições\n",
    "    predictions = model.predict(X_valid)\n",
    "\n",
    "    # Calcular volume médio previsto e erro quadrático médio (REQM)\n",
    "    predicted_mean = predictions.mean()\n",
    "    rmse = mean_squared_error(y_valid, predictions, squared=False)\n",
    "\n",
    "    return model, predictions, y_valid, predicted_mean, rmse\n",
    "\n",
    "\n",
    "\n",
    "df_region_2 = data[\"Região 2\"]\n",
    "\n",
    "# Aplicando a função\n",
    "\n",
    "model_2, preds_2, valid_2, mean_2, rmse_2 = train_and_evaluate_model(df_region_2)\n",
    "\n",
    "# Exibindo os resultados\n",
    "print(\"📌 Volume médio previsto de reservas (mil barris):\", round(mean_2, 2))\n",
    "print(\"📉 Erro Quadrático Médio (REQM):\", round(rmse_2, 2))"
   ]
  },
  {
   "cell_type": "markdown",
   "metadata": {},
   "source": [
    "Resumo da Região 1\n",
    "Modelo usado: Regressão Linear\n",
    "\n",
    "Volume médio previsto de reservas: 94,77 mil barris\n",
    "\n",
    "Erro Quadrático Médio (REQM): 40,15 mil barris"
   ]
  },
  {
   "cell_type": "markdown",
   "metadata": {},
   "source": [
    "Interpretacao:\n",
    "    \n",
    "* O Erro Quadrático Médio (REQM) foi de 40,15, indicando a magnitude média dos erros nas previsões. \n",
    "Isso sugere que o modelo tem uma precisão razoável, \n",
    "mas o volume médio previsto está abaixo do mínimo necessário (111,1 mil barris) para evitar prejuízo, \n",
    "o que exige uma análise mais detalhada de lucro e risco."
   ]
  },
  {
   "cell_type": "markdown",
   "metadata": {},
   "source": [
    "##  Parâmetros do negócio "
   ]
  },
  {
   "cell_type": "code",
   "execution_count": 36,
   "metadata": {},
   "outputs": [
    {
     "name": "stdout",
     "output_type": "stream",
     "text": [
      "\n",
      "=== Preparação para o Cálculo de Lucro ===\n",
      "Orçamento para 200 poços: $100,000,000\n",
      "Receita por unidade (milhares de barris): $4,500\n",
      "Volume mínimo para evitar prejuízo: 111.1 milhares de barris\n"
     ]
    }
   ],
   "source": [
    "# Parâmetros do negócio\n",
    "\n",
    "WELLS_TO_DEVELOP = 200\n",
    "BUDGET = 100_000_000  # 100 milhões de dólares\n",
    "REVENUE_PER_UNIT = 4500  # Receita por unidade (milhares de barris)\n",
    "BREAK_EVEN_VOLUME = BUDGET / (WELLS_TO_DEVELOP * REVENUE_PER_UNIT)  # Volume mínimo para evitar prejuízo\n",
    "\n",
    "# Preparação para o Cálculo de Lucro\n",
    "\n",
    "print(\"\\n=== Preparação para o Cálculo de Lucro ===\")\n",
    "print(f\"Orçamento para {WELLS_TO_DEVELOP} poços: ${BUDGET:,}\")\n",
    "print(f\"Receita por unidade (milhares de barris): ${REVENUE_PER_UNIT:,}\")\n",
    "print(f\"Volume mínimo para evitar prejuízo: {BREAK_EVEN_VOLUME:.1f} milhares de barris\")"
   ]
  },
  {
   "cell_type": "code",
   "execution_count": 33,
   "metadata": {},
   "outputs": [
    {
     "name": "stdout",
     "output_type": "stream",
     "text": [
      "\n",
      "Região Região 0:\n",
      "Volume médio previsto: 92.40 milhares de barris\n",
      "Volume médio é inferior ao necessário para evitar prejuízo.\n",
      "\n",
      "Região Região 1:\n",
      "Volume médio previsto: 68.71 milhares de barris\n",
      "Volume médio é inferior ao necessário para evitar prejuízo.\n",
      "\n",
      "Região Região 2:\n",
      "Volume médio previsto: 94.77 milhares de barris\n",
      "Volume médio é inferior ao necessário para evitar prejuízo.\n"
     ]
    }
   ],
   "source": [
    "# Comparar o volume médio previsto com o volume mínimo\n",
    "region_means = {\n",
    "    \"Região 0\": mean_0,\n",
    "    \"Região 1\": mean_1,\n",
    "    \"Região 2\": mean_2\n",
    "}\n",
    "\n",
    "for region, mean_volume in region_means.items():\n",
    "    print(f\"\\nRegião {region}:\")\n",
    "    print(f\"Volume médio previsto: {mean_volume:.2f} milhares de barris\")\n",
    "    if mean_volume < BREAK_EVEN_VOLUME:\n",
    "        print(\"Volume médio é inferior ao necessário para evitar prejuízo.\")\n",
    "    else:\n",
    "        print(\"Volume médio é suficiente para evitar prejuízo.\")"
   ]
  },
  {
   "cell_type": "markdown",
   "metadata": {},
   "source": [
    "Resumo da Etapa 5: Preparação para o Cálculo de Lucro\n",
    "\n",
    "* Parâmetros: Orçamento de $100 milhões para 200 poços, receita de  4.500 por mil barris, volume mínimo para evitar prejuízo de 111,1 mil barris.\n",
    "\n",
    "* Região 0: Volume médio previsto de 92,40 mil barris – inferior ao mínimo necessário.\n",
    "\n",
    "* Região 1: Volume médio previsto de 68,71 mil barris – inferior ao mínimo necessário.\n",
    "\n",
    "* Região 2: Volume médio previsto de 94,77 mil barris – inferior ao mínimo necessário.\n",
    "\n",
    "* Conclusão: Nenhuma região atinge o volume médio necessário para evitar prejuízo, indicando a necessidade de focar nos 200 melhores poços e analisar riscos."
   ]
  },
  {
   "cell_type": "markdown",
   "metadata": {},
   "source": [
    "##  Etapa 6: Função para Calcular o Lucro Potencial"
   ]
  },
  {
   "cell_type": "code",
   "execution_count": 37,
   "metadata": {},
   "outputs": [
    {
     "name": "stdout",
     "output_type": "stream",
     "text": [
      "\n",
      "=== Cálculo do Lucro Potencial dos 200 Melhores Poços ===\n",
      "Região Região 0: Lucro potencial = $33,591,411.14\n",
      "Região Região 1: Lucro potencial = $24,150,866.97\n",
      "Região Região 2: Lucro potencial = $25,985,717.59\n"
     ]
    }
   ],
   "source": [
    "# Etapa 6: Função para Calcular o Lucro Potencial\n",
    "def calculate_profit(predictions, target, wells_to_develop, revenue_per_unit, budget):\n",
    "    # Criar DataFrame com predições e valores reais\n",
    "    results = pd.DataFrame({'prediction': predictions, 'target': target}).reset_index(drop=True)\n",
    "    \n",
    "    # Selecionar os 200 poços com maiores valores previstos\n",
    "    top_wells = results.sort_values(by='prediction', ascending=False).head(wells_to_develop)\n",
    "    \n",
    "    # Somar o volume alvo (valores reais) dos 200 poços selecionados\n",
    "    total_volume = top_wells['target'].sum()\n",
    "    \n",
    "    # Calcular o lucro: receita - custo\n",
    "    revenue = total_volume * revenue_per_unit\n",
    "    profit = revenue - budget\n",
    "    \n",
    "    return profit, top_wells\n",
    "\n",
    "# Calcular o lucro potencial para cada região\n",
    "print(\"\\n=== Cálculo do Lucro Potencial dos 200 Melhores Poços ===\")\n",
    "profits = {}\n",
    "top_wells_dict = {}\n",
    "\n",
    "for region, preds, valid in zip(regions, [preds_0, preds_1, preds_2], [valid_0, valid_1, valid_2]):\n",
    "    profit, top_wells = calculate_profit(preds, valid, WELLS_TO_DEVELOP, REVENUE_PER_UNIT, BUDGET)\n",
    "    profits[region] = profit\n",
    "    top_wells_dict[region] = top_wells\n",
    "    print(f\"Região {region}: Lucro potencial = ${profit:,.2f}\")"
   ]
  },
  {
   "cell_type": "code",
   "execution_count": 35,
   "metadata": {},
   "outputs": [
    {
     "name": "stdout",
     "output_type": "stream",
     "text": [
      "\n",
      "Região sugerida com base no lucro potencial: Região 0\n",
      "Lucro potencial: $33,591,411.14\n"
     ]
    }
   ],
   "source": [
    "# Escolher a região com maior lucro potencial\n",
    "\n",
    "best_region_potential = max(profits.items(), key=lambda x: x[1])\n",
    "print(f\"\\nRegião sugerida com base no lucro potencial: {best_region_potential[0]}\")\n",
    "print(f\"Lucro potencial: ${best_region_potential[1]:,.2f}\")"
   ]
  },
  {
   "cell_type": "markdown",
   "metadata": {},
   "source": [
    "Resumo da Etapa 6: Cálculo do Lucro Potencial dos 200 Melhores Poços\n",
    "\n",
    "Lucro Potencial:\n",
    "* Região 0: $33,591,411.14\n",
    "* Região 1: $24,150,866.97\n",
    "* Região 2: $25,985,717.59\n",
    "\n",
    "\n",
    "* Região Sugerida: Região 0, com o maior lucro potencial de $33,59 milhões.\n",
    "\n",
    "* Conclusão: A Região 0 destaca-se como a mais lucrativa com base nos 200 melhores poços, mas a análise de risco ainda é necessária para confirmar a viabilidade."
   ]
  },
  {
   "cell_type": "markdown",
   "metadata": {},
   "source": [
    "## Calcular Riscos e Lucro com Bootstrapping"
   ]
  },
  {
   "cell_type": "code",
   "execution_count": 46,
   "metadata": {
    "scrolled": true
   },
   "outputs": [
    {
     "name": "stdout",
     "output_type": "stream",
     "text": [
      "\n",
      "=== Etapa 7: Análise de Riscos e Lucro com Bootstrapping ===\n",
      "\n",
      "Região Região 0:\n",
      "Lucro médio: $4,062,787.83\n",
      "Intervalo de confiança de 95%: ($-1,177,421.36, $9,117,370.51)\n",
      "Risco de prejuízo: 6.70%\n",
      "\n",
      "Região Região 1:\n",
      "Lucro médio: $4,326,241.32\n",
      "Intervalo de confiança de 95%: ($168,461.75, $8,159,725.26)\n",
      "Risco de prejuízo: 1.90%\n",
      "\n",
      "Região Região 2:\n",
      "Lucro médio: $3,773,621.92\n",
      "Intervalo de confiança de 95%: ($-1,707,804.18, $9,017,721.31)\n",
      "Risco de prejuízo: 7.40%\n"
     ]
    }
   ],
   "source": [
    "# Calcular Riscos e Lucro com Bootstrapping\n",
    "def bootstrap_profit(predictions, target, wells_to_develop, revenue_per_unit, budget, n_samples=1000):\n",
    "    state = np.random.RandomState(12345)\n",
    "    profits = []\n",
    "    \n",
    "    # Criar DataFrame com predições e valores reais\n",
    "    results = pd.DataFrame({'prediction': predictions, 'target': target}).reset_index(drop=True)\n",
    "    \n",
    "    # Bootstrapping com 1000 amostras\n",
    "    for _ in range(n_samples):\n",
    "        # Amostrar 500 pontos com reposição\n",
    "        subsample = results.sample(n=500, replace=True, random_state=state)\n",
    "        \n",
    "        # Calcular o lucro para os 200 melhores poços da subamostra\n",
    "        profit, _ = calculate_profit(subsample['prediction'], subsample['target'], wells_to_develop, revenue_per_unit, budget)\n",
    "        profits.append(profit)\n",
    "    \n",
    "    profits = pd.Series(profits)\n",
    "    \n",
    "    # Calcular métricas\n",
    "    mean_profit = profits.mean()\n",
    "    confidence_interval = (profits.quantile(0.025), profits.quantile(0.975))\n",
    "    risk_of_loss = (profits < 0).mean() * 100  # Risco de prejuízo em porcentagem\n",
    "    \n",
    "    return mean_profit, confidence_interval, risk_of_loss  # Corrigido 'risk_of_los' para 'risk_of_loss'\n",
    "\n",
    "# Calcular lucro e risco para cada região\n",
    "print(\"\\n=== Análise de Riscos e Lucro com Bootstrapping ===\")\n",
    "region_metrics = {}\n",
    "\n",
    "for region, preds, valid in zip(regions, [preds_0, preds_1, preds_2], [valid_0, valid_1, valid_2]):\n",
    "    mean_profit, confidence_interval, risk_of_loss = bootstrap_profit(\n",
    "        preds, valid, WELLS_TO_DEVELOP, REVENUE_PER_UNIT, BUDGET\n",
    "    )\n",
    "    region_metrics[region] = {\n",
    "        'mean_profit': mean_profit,\n",
    "        'confidence_interval': confidence_interval,\n",
    "        'risk_of_loss': risk_of_loss\n",
    "    }\n",
    "    \n",
    "    print(f\"\\nRegião {region}:\")\n",
    "    print(f\"Lucro médio: ${mean_profit:,.2f}\")\n",
    "    print(f\"Intervalo de confiança de 95%: (${confidence_interval[0]:,.2f}, ${confidence_interval[1]:,.2f})\")\n",
    "    print(f\"Risco de prejuízo: {risk_of_loss:.2f}%\")"
   ]
  },
  {
   "cell_type": "code",
   "execution_count": 47,
   "metadata": {},
   "outputs": [
    {
     "name": "stdout",
     "output_type": "stream",
     "text": [
      "\n",
      "Região sugerida com base no lucro médio e risco < 2.5%: Região 1\n",
      "Lucro médio: $4,326,241.32\n",
      "Risco de prejuízo: 1.90%\n"
     ]
    }
   ],
   "source": [
    "# Selecionar regiões com risco de prejuízo < 2.5% e maior lucro médio\n",
    "eligible_regions = {\n",
    "    region: metrics for region, metrics in region_metrics.items()\n",
    "    if metrics['risk_of_loss'] < 2.5\n",
    "}\n",
    "\n",
    "if eligible_regions:\n",
    "    best_region = max(eligible_regions.items(), key=lambda x: x[1]['mean_profit'])\n",
    "    print(f\"\\nRegião sugerida com base no lucro médio e risco < 2.5%: {best_region[0]}\")\n",
    "    print(f\"Lucro médio: ${best_region[1]['mean_profit']:,.2f}\")\n",
    "    print(f\"Risco de prejuízo: {best_region[1]['risk_of_loss']:.2f}%\")\n",
    "else:\n",
    "    print(\"\\nNenhuma região atende ao critério de risco de prejuízo < 2.5%.\")"
   ]
  },
  {
   "cell_type": "markdown",
   "metadata": {},
   "source": [
    "Resumo da Etapa 7: Análise de Riscos e Lucro com Bootstrapping\n",
    "\n",
    "* Região 0: Lucro médio de $4,06 milhões, intervalo de confiança de 95% ($-1,18M, $9,12M), risco de prejuízo de 6,70%.\n",
    "* Região 1: Lucro médio de $4,33 milhões, intervalo de confiança de 95% ($0,17M, $8,16M), risco de prejuízo de 1,90%.\n",
    "* Região 2: Lucro médio de $3,77 milhões, intervalo de confiança de 95% ($-1,71M, $9,02M), risco de prejuízo de 7,40%.\n",
    "* Região Sugerida: Região 1, com lucro médio de $4,33 milhões e risco de prejuízo de 1,90% (atende ao critério de risco < 2,5%).\n",
    "* Conclusão: A Região 1 é a melhor escolha, equilibrando maior lucro médio e menor risco de prejuízo."
   ]
  },
  {
   "cell_type": "markdown",
   "metadata": {},
   "source": [
    "# Conclusão: OilyGiant\n",
    "\n",
    "Foram analisadas três regiões para o desenvolvimento de novos poços de petróleo, utilizando regressão linear para prever o volume de reservas e a técnica de Bootstrapping para avaliar lucros e riscos. Os principais pontos são:\n",
    "\n",
    "* Modelagem: O modelo de regressão linear apresentou volumes médios previstos de 92,40 (Região 0), 68,71 (Região 1) e 94,77 (Região 2) mil barris, todos abaixo do mínimo de 111,1 mil barris para evitar prejuízo. O REQM foi mais baixo na Região 1 (0,89), indicando maior precisão.\n",
    "\n",
    "* Lucro Potencial: A Região 0 destacou-se com o maior lucro potencial ($33,59 milhões) para os 200 melhores poços, seguida pela Região 2 ($25,99 milhões) e Região 1 ($24,15 milhões).\n",
    "* Análise de Risco: Com Bootstrapping, a Região 1 foi a única com risco de prejuízo < 2,5% (1,90%), apresentando lucro médio de $4,33 milhões e intervalo de confiança de 95% ($0,17M, $8,16M). As Regiões 0 e 2 tiveram riscos de 6,70% e 7,40%, respectivamente.\n",
    "\n",
    "* Região Escolhida: A Região 1 é recomendada, pois atende ao critério de risco (< 2,5%) e oferece o maior lucro médio entre as elegíveis ($4,33 milhões). Apesar de a Região 0 ter maior lucro potencial, seu risco elevado a torna menos viável.\n",
    "\n",
    " Recomendação Final: Desenvolver poços na Região 1, equilibrando lucratividade e segurança financeira.\n",
    "\n",
    "\n"
   ]
  }
 ],
 "metadata": {
  "ExecuteTimeLog": [
   {
    "duration": 762,
    "start_time": "2025-04-07T17:56:25.873Z"
   },
   {
    "duration": 3,
    "start_time": "2025-04-07T18:06:23.091Z"
   },
   {
    "duration": 2,
    "start_time": "2025-04-07T18:06:25.364Z"
   },
   {
    "duration": 6,
    "start_time": "2025-04-07T18:06:28.914Z"
   },
   {
    "duration": 5,
    "start_time": "2025-04-07T18:07:12.589Z"
   },
   {
    "duration": 3,
    "start_time": "2025-04-07T18:07:41.976Z"
   },
   {
    "duration": 3,
    "start_time": "2025-04-07T18:07:44.158Z"
   },
   {
    "duration": 759,
    "start_time": "2025-04-08T11:18:35.788Z"
   },
   {
    "duration": 4,
    "start_time": "2025-04-08T11:18:39.051Z"
   },
   {
    "duration": 5,
    "start_time": "2025-04-08T11:18:42.085Z"
   },
   {
    "duration": 561,
    "start_time": "2025-04-08T11:20:37.843Z"
   },
   {
    "duration": 74,
    "start_time": "2025-04-08T11:20:45.414Z"
   },
   {
    "duration": 70,
    "start_time": "2025-04-08T11:21:21.370Z"
   },
   {
    "duration": 66,
    "start_time": "2025-04-08T11:22:33.620Z"
   },
   {
    "duration": 66,
    "start_time": "2025-04-08T11:23:37.729Z"
   },
   {
    "duration": 265,
    "start_time": "2025-04-08T11:25:13.837Z"
   },
   {
    "duration": 17,
    "start_time": "2025-04-08T11:29:40.237Z"
   },
   {
    "duration": 195,
    "start_time": "2025-04-08T11:31:45.471Z"
   },
   {
    "duration": 187,
    "start_time": "2025-04-08T11:31:57.962Z"
   },
   {
    "duration": 6,
    "start_time": "2025-04-08T11:32:42.280Z"
   },
   {
    "duration": 4,
    "start_time": "2025-04-08T11:32:55.010Z"
   },
   {
    "duration": 184,
    "start_time": "2025-04-08T11:33:51.745Z"
   },
   {
    "duration": 4,
    "start_time": "2025-04-08T11:34:03.429Z"
   },
   {
    "duration": 65,
    "start_time": "2025-04-08T11:35:31.865Z"
   },
   {
    "duration": 69,
    "start_time": "2025-04-08T11:36:24.580Z"
   },
   {
    "duration": 66,
    "start_time": "2025-04-08T11:36:55.939Z"
   },
   {
    "duration": 274,
    "start_time": "2025-04-08T11:38:20.338Z"
   },
   {
    "duration": 24,
    "start_time": "2025-04-08T11:44:33.839Z"
   },
   {
    "duration": 5,
    "start_time": "2025-04-08T11:48:54.182Z"
   },
   {
    "duration": 146,
    "start_time": "2025-04-08T11:52:26.780Z"
   },
   {
    "duration": 61,
    "start_time": "2025-04-08T11:54:03.551Z"
   },
   {
    "duration": 17,
    "start_time": "2025-04-08T11:54:41.752Z"
   },
   {
    "duration": 7,
    "start_time": "2025-04-08T11:55:27.736Z"
   },
   {
    "duration": 28,
    "start_time": "2025-04-08T11:56:02.137Z"
   },
   {
    "duration": 22,
    "start_time": "2025-04-08T11:56:57.921Z"
   },
   {
    "duration": 17,
    "start_time": "2025-04-08T11:57:06.393Z"
   },
   {
    "duration": 3,
    "start_time": "2025-04-08T11:59:29.644Z"
   },
   {
    "duration": 18,
    "start_time": "2025-04-08T12:02:30.402Z"
   },
   {
    "duration": 3,
    "start_time": "2025-04-08T12:18:01.407Z"
   },
   {
    "duration": 4,
    "start_time": "2025-04-08T12:18:54.512Z"
   },
   {
    "duration": 15,
    "start_time": "2025-04-08T12:24:06.009Z"
   },
   {
    "duration": 3,
    "start_time": "2025-04-08T12:24:58.060Z"
   },
   {
    "duration": 3,
    "start_time": "2025-04-08T12:26:01.615Z"
   },
   {
    "duration": 14,
    "start_time": "2025-04-08T12:26:29.723Z"
   },
   {
    "duration": 2,
    "start_time": "2025-04-08T12:33:28.215Z"
   },
   {
    "duration": 4,
    "start_time": "2025-04-08T12:35:44.479Z"
   },
   {
    "duration": 4,
    "start_time": "2025-04-08T12:36:19.336Z"
   },
   {
    "duration": 847,
    "start_time": "2025-04-08T12:37:04.874Z"
   },
   {
    "duration": 4,
    "start_time": "2025-04-08T12:37:32.478Z"
   },
   {
    "duration": 792,
    "start_time": "2025-04-08T12:37:36.317Z"
   },
   {
    "duration": 833,
    "start_time": "2025-04-08T12:37:51.570Z"
   },
   {
    "duration": 794,
    "start_time": "2025-04-08T12:39:24.468Z"
   },
   {
    "duration": 2567,
    "start_time": "2025-04-08T12:40:04.143Z"
   },
   {
    "duration": 4,
    "start_time": "2025-04-08T12:40:30.368Z"
   }
  ],
  "kernelspec": {
   "display_name": "Python 3 (ipykernel)",
   "language": "python",
   "name": "python3"
  },
  "language_info": {
   "codemirror_mode": {
    "name": "ipython",
    "version": 3
   },
   "file_extension": ".py",
   "mimetype": "text/x-python",
   "name": "python",
   "nbconvert_exporter": "python",
   "pygments_lexer": "ipython3",
   "version": "3.9.19"
  },
  "toc": {
   "base_numbering": 1,
   "nav_menu": {},
   "number_sections": true,
   "sideBar": true,
   "skip_h1_title": true,
   "title_cell": "Table of Contents",
   "title_sidebar": "Contents",
   "toc_cell": false,
   "toc_position": {},
   "toc_section_display": true,
   "toc_window_display": false
  }
 },
 "nbformat": 4,
 "nbformat_minor": 2
}
